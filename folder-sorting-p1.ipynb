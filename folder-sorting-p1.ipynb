{
 "cells": [
  {
   "cell_type": "code",
   "execution_count": 1,
   "id": "9821c728",
   "metadata": {
    "_cell_guid": "b1076dfc-b9ad-4769-8c92-a6c4dae69d19",
    "_uuid": "8f2839f25d086af736a60e9eeb907d3b93b6e0e5",
    "execution": {
     "iopub.execute_input": "2025-02-08T15:27:39.969376Z",
     "iopub.status.busy": "2025-02-08T15:27:39.968988Z",
     "iopub.status.idle": "2025-02-08T15:27:40.900046Z",
     "shell.execute_reply": "2025-02-08T15:27:40.898950Z"
    },
    "papermill": {
     "duration": 0.936039,
     "end_time": "2025-02-08T15:27:40.902014",
     "exception": false,
     "start_time": "2025-02-08T15:27:39.965975",
     "status": "completed"
    },
    "tags": []
   },
   "outputs": [],
   "source": [
    "# Prompt \n",
    "# Goal ---> Sorting Folders\n",
    "# Language  Python\n",
    "\n",
    "import numpy as np \n",
    "import pandas as pd \n",
    "\n",
    "import os\n",
    "for dirname, _, filenames in os.walk('/kaggle/input'):\n",
    "    for filename in filenames:\n",
    "        print(os.path.join(dirname, filename))"
   ]
  },
  {
   "cell_type": "code",
   "execution_count": 2,
   "id": "64b32f46",
   "metadata": {
    "execution": {
     "iopub.execute_input": "2025-02-08T15:27:40.906539Z",
     "iopub.status.busy": "2025-02-08T15:27:40.906036Z",
     "iopub.status.idle": "2025-02-08T15:27:40.913409Z",
     "shell.execute_reply": "2025-02-08T15:27:40.912343Z"
    },
    "papermill": {
     "duration": 0.01092,
     "end_time": "2025-02-08T15:27:40.914936",
     "exception": false,
     "start_time": "2025-02-08T15:27:40.904016",
     "status": "completed"
    },
    "tags": []
   },
   "outputs": [
    {
     "name": "stdout",
     "output_type": "stream",
     "text": [
      "Current path: /kaggle/working\n",
      "\n",
      "Folders and Files in this Directory:\n",
      "['__notebook__.ipynb']\n",
      "\n",
      " Accessing Data... \n"
     ]
    }
   ],
   "source": [
    "import os\n",
    "\n",
    "current_path = os.getcwd()\n",
    "print(\"Current path:\" ,current_path )\n",
    "\n",
    "print(\"\\nFolders and Files in this Directory:\")\n",
    "print(os.listdir(current_path))\n",
    "\n",
    "\n",
    "print(\"\\n Accessing Data... \")\n",
    "folders = [f for f in os.listdir(current_path)\n",
    "           if os.path.isdir(os.path.join(current_path, f))]\n",
    "\n",
    "\n"
   ]
  }
 ],
 "metadata": {
  "kaggle": {
   "accelerator": "none",
   "dataSources": [],
   "dockerImageVersionId": 30839,
   "isGpuEnabled": false,
   "isInternetEnabled": true,
   "language": "python",
   "sourceType": "notebook"
  },
  "kernelspec": {
   "display_name": "Python 3",
   "language": "python",
   "name": "python3"
  },
  "language_info": {
   "codemirror_mode": {
    "name": "ipython",
    "version": 3
   },
   "file_extension": ".py",
   "mimetype": "text/x-python",
   "name": "python",
   "nbconvert_exporter": "python",
   "pygments_lexer": "ipython3",
   "version": "3.10.12"
  },
  "papermill": {
   "default_parameters": {},
   "duration": 4.222737,
   "end_time": "2025-02-08T15:27:41.436836",
   "environment_variables": {},
   "exception": null,
   "input_path": "__notebook__.ipynb",
   "output_path": "__notebook__.ipynb",
   "parameters": {},
   "start_time": "2025-02-08T15:27:37.214099",
   "version": "2.6.0"
  }
 },
 "nbformat": 4,
 "nbformat_minor": 5
}
